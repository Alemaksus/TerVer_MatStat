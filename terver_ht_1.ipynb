{
 "cells": [
  {
   "cell_type": "markdown",
   "metadata": {},
   "source": [
    "### 1. Из колоды в 52 карты извлекаются случайным образом 4 карты. "
   ]
  },
  {
   "cell_type": "markdown",
   "metadata": {},
   "source": [
    "#### a) Найти вероятность того, что все карты – крести: "
   ]
  },
  {
   "cell_type": "code",
   "execution_count": 3,
   "metadata": {},
   "outputs": [],
   "source": [
    "from math import factorial\n",
    "\n",
    "def сombination (n, k):\n",
    "    return int(factorial(n) / (factorial(k) * factorial(n - k)))"
   ]
  },
  {
   "cell_type": "markdown",
   "metadata": {},
   "source": [
    "Находим сначало общее число вариантов раздачи 4-х карт из 52-ти, по следующей формуле:\n",
    "\n",
    "$$C_n^k = \\frac{n!}{k!(n - k)!}$$\n",
    "\n",
    "В нашем случае получается следующее:\n",
    "\n",
    "$$C_4^{52} = \\frac{52!}{4!(52 - 4)!} = 270725$$"
   ]
  },
  {
   "cell_type": "markdown",
   "metadata": {},
   "source": [
    "В python-коде это будет выглядеть так:"
   ]
  },
  {
   "cell_type": "code",
   "execution_count": 5,
   "metadata": {},
   "outputs": [
    {
     "name": "stdout",
     "output_type": "stream",
     "text": [
      "Общее число исходов: 270725\n"
     ]
    }
   ],
   "source": [
    "n = сombination(52, 4)\n",
    "print(f'Общее число исходов: {n}')"
   ]
  },
  {
   "cell_type": "markdown",
   "metadata": {},
   "source": [
    "Теперь находим общее число вариантов, когда все 4 карты при раздаче оказались крести:\n",
    "\n",
    "$$C_4^{13} = \\frac{13!}{4!(13 - 4)!} = 715$$"
   ]
  },
  {
   "cell_type": "code",
   "execution_count": 6,
   "metadata": {},
   "outputs": [
    {
     "name": "stdout",
     "output_type": "stream",
     "text": [
      "Общее число исходов, когда все из 4-х карт крести: 715\n"
     ]
    }
   ],
   "source": [
    "# В коде это будет выглядеть так:\n",
    "\n",
    "m = сombination(13, 4)\n",
    "print(f'Общее число исходов, когда все из 4-х карт крести: {m}')"
   ]
  },
  {
   "cell_type": "markdown",
   "metadata": {},
   "source": [
    "И наконец находим вероятность выпадения единственного варианта, когда на раздаче все 4 карты оказались крести:\n",
    "\n",
    "$$P = \\frac{m}{n} = \\frac{715}{270725} = 0.00264$$"
   ]
  },
  {
   "cell_type": "code",
   "execution_count": 7,
   "metadata": {},
   "outputs": [
    {
     "name": "stdout",
     "output_type": "stream",
     "text": [
      "Вероятность вытащить из колоды 4 карты масти крести: 0.0026410564225690276\n"
     ]
    }
   ],
   "source": [
    "p = m/n\n",
    "print(f'Вероятность вытащить из колоды 4 карты масти крести: {p}')"
   ]
  },
  {
   "cell_type": "markdown",
   "metadata": {},
   "source": [
    "#### Ответ: вероятность получить при раздаче 4-х крестей из колоды в 52-х карт: 0.00264 или 0.264%."
   ]
  },
  {
   "cell_type": "markdown",
   "metadata": {},
   "source": [
    "#### б) Найти вероятность, что среди 4-х карт окажется хотя бы один туз:"
   ]
  },
  {
   "cell_type": "code",
   "execution_count": 25,
   "metadata": {},
   "outputs": [
    {
     "name": "stdout",
     "output_type": "stream",
     "text": [
      "Общее число исходов с, когда из 48 карт нет ни одного туза: 194580\n"
     ]
    }
   ],
   "source": [
    "# 1. Находим подмножество без тузов: 52 карты - 4 туза = 48 карт\n",
    "# 2. Находим число сочетаний из 4-х карт в подмножестве из 48 карт:\n",
    "\n",
    "c = сombination(48, 4)\n",
    "print(f'Общее число исходов с, когда из 48 карт нет ни одного туза: {с}')"
   ]
  },
  {
   "cell_type": "code",
   "execution_count": 26,
   "metadata": {},
   "outputs": [
    {
     "name": "stdout",
     "output_type": "stream",
     "text": [
      "Общее число исходов \"d\", когда в 4-х картах из 52-х хотя бы один - туз: 76145\n"
     ]
    }
   ],
   "source": [
    "# 3. Находим число сочетаний, когда из 4-х карт есть хотя бы один туз: \n",
    "\n",
    "d = n - с\n",
    "print(f'Общее число исходов \"d\", когда в 4-х картах из 52-х хотя бы один - туз: {d}')"
   ]
  },
  {
   "cell_type": "code",
   "execution_count": 28,
   "metadata": {},
   "outputs": [
    {
     "name": "stdout",
     "output_type": "stream",
     "text": [
      "Вероятность вытащить четыре карты хотя бы с одним тузом: 0.2812632745405855\n"
     ]
    }
   ],
   "source": [
    "# 4) Находим вероятность того, что среди 4-х карт окажется хотя бы один туз (P(A)):\n",
    "p = d / n\n",
    "print(f'Вероятность вытащить четыре карты хотя бы с одним тузом: {p}')"
   ]
  },
  {
   "cell_type": "markdown",
   "metadata": {},
   "source": [
    "#### Ответ: вероятность получить из колоды в 4 карты хотя бы одного туза: 0.28126 или 28.13%."
   ]
  },
  {
   "cell_type": "markdown",
   "metadata": {},
   "source": [
    "### 2. На входной двери подъезда установлен кодовый замок, содержащий десять кнопок с цифрами от 0 до 9. Код содержит три цифры, которые нужно нажать одновременно. Какова вероятность того, что человек, не знающий код, откроет дверь с первой попытки?"
   ]
  },
  {
   "cell_type": "code",
   "execution_count": 11,
   "metadata": {},
   "outputs": [
    {
     "name": "stdout",
     "output_type": "stream",
     "text": [
      "Общее количество сочетаний из 3-х цифр от 0 до 9: 120\n"
     ]
    }
   ],
   "source": [
    "n = сombination(10, 3)\n",
    "print(f'Общее количество сочетаний из 3-х цифр от 0 до 9: {n}')"
   ]
  },
  {
   "cell_type": "code",
   "execution_count": 12,
   "metadata": {},
   "outputs": [
    {
     "name": "stdout",
     "output_type": "stream",
     "text": [
      "Вероятность угадать код с первой попытки: 0.008333333333333333\n"
     ]
    }
   ],
   "source": [
    "p =1/n\n",
    "print(f'Вероятность угадать код с первой попытки: {p}')"
   ]
  },
  {
   "cell_type": "markdown",
   "metadata": {},
   "source": [
    "#### Ответ: вероятность случайно угадать код с первой попытки: 0.00833 или 0.833%"
   ]
  },
  {
   "cell_type": "markdown",
   "metadata": {},
   "source": [
    "### 3. В ящике имеется 15 деталей, из которых 9 окрашены. Рабочий случайным образом извлекает 3 детали. Какова вероятность того, что все извлеченные детали окрашены?"
   ]
  },
  {
   "cell_type": "code",
   "execution_count": 13,
   "metadata": {},
   "outputs": [
    {
     "name": "stdout",
     "output_type": "stream",
     "text": [
      "Общее число исходов: 455\n"
     ]
    }
   ],
   "source": [
    "n = сombination(15, 3)\n",
    "print(f'Общее число исходов: {n}')"
   ]
  },
  {
   "cell_type": "code",
   "execution_count": 14,
   "metadata": {},
   "outputs": [
    {
     "name": "stdout",
     "output_type": "stream",
     "text": [
      "Количество сочетаний из 3-х окрашенных деталей: 84\n"
     ]
    }
   ],
   "source": [
    "m = сombination(9, 3)\n",
    "print(f'Количество сочетаний из 3-х окрашенных деталей: {m}')"
   ]
  },
  {
   "cell_type": "code",
   "execution_count": 16,
   "metadata": {},
   "outputs": [
    {
     "name": "stdout",
     "output_type": "stream",
     "text": [
      "Вероятность вытащить 3 окрашенные детали: 0.18461538461538463\n"
     ]
    }
   ],
   "source": [
    "p = m/n\n",
    "print(f'Вероятность вытащить 3 окрашенные детали: {p}')"
   ]
  },
  {
   "cell_type": "markdown",
   "metadata": {},
   "source": [
    "#### Ответ: вероятность вытащить 3 окрашенные детали: 0.18462 или 18.461%"
   ]
  },
  {
   "cell_type": "markdown",
   "metadata": {},
   "source": [
    "### 4. В лотерее 100 билетов. Из них 2 выигрышных. Какова вероятность того, что 2 приобретенных билета окажутся выигрышными?"
   ]
  },
  {
   "cell_type": "code",
   "execution_count": 17,
   "metadata": {},
   "outputs": [
    {
     "name": "stdout",
     "output_type": "stream",
     "text": [
      "Общее число комбинаций, из 2-х билетов: 4950\n"
     ]
    }
   ],
   "source": [
    "n = сombination(100, 2)\n",
    "print(f'Общее число комбинаций, из 2-х билетов: {n}')"
   ]
  },
  {
   "cell_type": "code",
   "execution_count": 18,
   "metadata": {},
   "outputs": [
    {
     "name": "stdout",
     "output_type": "stream",
     "text": [
      "Количество выигрышных вариантов: 1\n"
     ]
    }
   ],
   "source": [
    "m = сombination(2, 2)\n",
    "print(f'Количество выигрышных вариантов: {m}')"
   ]
  },
  {
   "cell_type": "code",
   "execution_count": 20,
   "metadata": {},
   "outputs": [
    {
     "name": "stdout",
     "output_type": "stream",
     "text": [
      "Вероятность вытащить 2 выигрышных билета: 0.00020202020202020202\n"
     ]
    }
   ],
   "source": [
    "p = m/n\n",
    "print(f'Вероятность вытащить 2 выигрышных билета: {p}')"
   ]
  },
  {
   "cell_type": "markdown",
   "metadata": {},
   "source": [
    "#### Ответ: вероятность купить сразу 2 (!) выигрышных билета с одной попытки (!): 0.00020 или 0.020%"
   ]
  }
 ],
 "metadata": {
  "kernelspec": {
   "display_name": "Python 3",
   "language": "python",
   "name": "python3"
  },
  "language_info": {
   "codemirror_mode": {
    "name": "ipython",
    "version": 3
   },
   "file_extension": ".py",
   "mimetype": "text/x-python",
   "name": "python",
   "nbconvert_exporter": "python",
   "pygments_lexer": "ipython3",
   "version": "3.8.5"
  }
 },
 "nbformat": 4,
 "nbformat_minor": 4
}
