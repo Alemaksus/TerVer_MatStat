{
 "cells": [
  {
   "cell_type": "markdown",
   "metadata": {},
   "source": [
    "### 1. Даны значения зарплат из выборки выпускников: 100, 80, 75, 77, 89, 33, 45, 25, 65, 17, 30, 24, 57, 55, 70, 75, 65, 84, 90, 150. Посчитать (желательно без использования статистических методов наподобие std, var, mean) среднее арифметическое, среднее квадратичное отклонение, смещенную и несмещенную оценки дисперсий для данной выборки."
   ]
  },
  {
   "cell_type": "code",
   "execution_count": 2,
   "metadata": {},
   "outputs": [],
   "source": [
    "import numpy as np\n",
    "from math import factorial\n",
    "\n",
    "def сombination (n, k):\n",
    "    return int(factorial(n) / (factorial(k) * factorial(n - k)))"
   ]
  },
  {
   "cell_type": "code",
   "execution_count": 3,
   "metadata": {},
   "outputs": [],
   "source": [
    "salary = np.array([100, 80, 75, 77, 89, 33, 45, 25, 65, 17, 30, 24, 57, 55, 70, 75, 65, 84, 90, 150])"
   ]
  },
  {
   "cell_type": "markdown",
   "metadata": {},
   "source": [
    "#### Cреднее арифметическое:\n",
    "\n",
    "$$\\overline{x} = \\frac{100 + 80 + 75 + 77 + 89 + 33 + 45 + 25 + 65 + 17 + 30 + 24 + 57 + 55 + 70 + 75 + 65 + 84 + 90 + 150}{20} = 65.3$$"
   ]
  },
  {
   "cell_type": "code",
   "execution_count": 8,
   "metadata": {},
   "outputs": [
    {
     "name": "stdout",
     "output_type": "stream",
     "text": [
      "Среднее арифметическое: 65.3\n"
     ]
    }
   ],
   "source": [
    "x = salary.mean()\n",
    "print(f'Среднее арифметическое: {x}')"
   ]
  },
  {
   "cell_type": "markdown",
   "metadata": {},
   "source": [
    "#### Cреднее квадратичное отклонение:\n",
    "\n",
    "$\\sigma = \\sqrt{\\frac{\\displaystyle\\sum_{i=1}^{n} (x_i - \\overline{x})}{n}} =$\n",
    "$\\sqrt{\\frac{(100 - 65.3)^2 + (80 - 65.3)^2 + (75 - 65.3)^2 + (77 - 65.3)^2 + (89 - 65.3)^2 + (33 - 65.3)^2 + (45 - 65.3)^2 + (25 - 65.3)^2 + (65 - 65.3)^2 + (17 - 65.3)^2 + (30 - 65.3)^2 + (24 - 65.3)^2 + (57 - 65.3)^2 + (55 - 65.3)^2 + (70 - 65.3)^2 + (75 - 65.3)^2 + (65 - 65.3)^2 + (84 - 65.3)^2 + (90 - 65.3)^2 + (150 - 65.3)^2}{20}}=$\n",
    "$=30.82$"
   ]
  },
  {
   "cell_type": "code",
   "execution_count": 11,
   "metadata": {},
   "outputs": [
    {
     "name": "stdout",
     "output_type": "stream",
     "text": [
      "Среднее квадратичное отклонение: 30.8239\n"
     ]
    }
   ],
   "source": [
    "sig = round(salary.std(), 4)\n",
    "print(f'Среднее квадратичное отклонение: {sig}')"
   ]
  },
  {
   "cell_type": "markdown",
   "metadata": {},
   "source": [
    "#### Смещенная оценка дисперсии:\n",
    "\n",
    "$\\overline{\\sigma}^2 = \\frac{\\displaystyle\\sum_{i=1}^{n} (x_i - \\overline{x})}{n} =$\n",
    "$= \\frac{(100 - 65.3)^2 + (80 - 65.3)^2 + (75 - 65.3)^2 + (77 - 65.3)^2 + (89 - 65.3)^2 + (33 - 65.3)^2 + (45 - 65.3)^2 + (25 - 65.3)^2 + (65 - 65.3)^2 + (17 - 65.3)^2 + (30 - 65.3)^2 + (24 - 65.3)^2 + (57 - 65.3)^2 + (55 - 65.3)^2 + (70 - 65.3)^2 + (75 - 65.3)^2 + (65 - 65.3)^2 + (84 - 65.3)^2 + (90 - 65.3)^2 + (150 - 65.3)^2}{20} =$\n",
    "$=950.11$"
   ]
  },
  {
   "cell_type": "code",
   "execution_count": 15,
   "metadata": {},
   "outputs": [
    {
     "name": "stdout",
     "output_type": "stream",
     "text": [
      "Смещенная оценка дисперсии: 950.11\n"
     ]
    }
   ],
   "source": [
    "biased_variance_estimate = round(salary.var(), 2)\n",
    "print(f'Смещенная оценка дисперсии: {biased_variance_estimate}')"
   ]
  },
  {
   "cell_type": "markdown",
   "metadata": {},
   "source": [
    "#### Несмещенная оценка дисперсии:\n",
    "\n",
    "$\\widetilde{\\sigma}^2 = \\frac{\\displaystyle\\sum_{i=1}^{n} (x_i - \\overline{x})}{n} =$\n",
    "$= \\frac{(100 - 65.3)^2 + (80 - 65.3)^2 + (75 - 65.3)^2 + (77 - 65.3)^2 + (89 - 65.3)^2 + (33 - 65.3)^2 + (45 - 65.3)^2 + (25 - 65.3)^2 + (65 - 65.3)^2 + (17 - 65.3)^2 + (30 - 65.3)^2 + (24 - 65.3)^2 + (57 - 65.3)^2 + (55 - 65.3)^2 + (70 - 65.3)^2 + (75 - 65.3)^2 + (65 - 65.3)^2 + (84 - 65.3)^2 + (90 - 65.3)^2 + (150 - 65.3)^2}{20-1} = $\n",
    "$=1000.12$"
   ]
  },
  {
   "cell_type": "code",
   "execution_count": 14,
   "metadata": {},
   "outputs": [
    {
     "name": "stdout",
     "output_type": "stream",
     "text": [
      "Несмещенная оценка дисперсии: 1000.12\n"
     ]
    }
   ],
   "source": [
    "variance_estimate = round(salary.var(ddof=1), 2)\n",
    "print(f'Несмещенная оценка дисперсии: {variance_estimate}')"
   ]
  },
  {
   "cell_type": "markdown",
   "metadata": {},
   "source": [
    "### 2. В первом ящике находится 8 мячей, из которых 5 - белые. Во втором ящике - 12 мячей, из которых 5 белых. Из первого ящика вытаскивают случайным образом два мяча, из второго - 4. Какова вероятность того, что 3 мяча белые?"
   ]
  },
  {
   "cell_type": "markdown",
   "metadata": {},
   "source": [
    "#### Вероятность, что из первого ящика вытащили два белых мяча и одни из второго:\n",
    "\n",
    "$$P = \\frac{5}{8} \\cdot \\frac{4}{7} \\cdot \\left(\\frac{5}{12} \\cdot \\frac{7}{11} \\cdot  \\frac{6}{10} \\cdot  \\frac{5}{9} + \\frac{7}{12} \\cdot \\frac{5}{11} \\cdot  \\frac{6}{10} \\cdot  \\frac{5}{9} + \\frac{7}{12} \\cdot \\frac{6}{11} \\cdot  \\frac{5}{10} \\cdot  \\frac{5}{9} + \\frac{7}{12} \\cdot \\frac{6}{11} \\cdot  \\frac{5}{10} \\cdot  \\frac{5}{9}\\right) = 0.12626$$"
   ]
  },
  {
   "cell_type": "code",
   "execution_count": 16,
   "metadata": {},
   "outputs": [
    {
     "data": {
      "text/plain": [
       "0.12626262626262627"
      ]
     },
     "execution_count": 16,
     "metadata": {},
     "output_type": "execute_result"
    }
   ],
   "source": [
    "P_a = сombination(5, 2) / сombination(8, 2) * сombination(5, 1) * сombination(7, 3) / сombination(12, 4)\n",
    "P_a"
   ]
  },
  {
   "cell_type": "markdown",
   "metadata": {},
   "source": [
    "#### Вероятность, что из первого ящика вытащили только один белый мяч и только два из второго:"
   ]
  },
  {
   "cell_type": "code",
   "execution_count": 17,
   "metadata": {},
   "outputs": [
    {
     "data": {
      "text/plain": [
       "0.22727272727272724"
      ]
     },
     "execution_count": 17,
     "metadata": {},
     "output_type": "execute_result"
    }
   ],
   "source": [
    "P_b = сombination(5, 1) * сombination(3, 1) / сombination(8, 2) * сombination(5, 2) * сombination(7, 2) / сombination(12, 4)\n",
    "P_b"
   ]
  },
  {
   "cell_type": "markdown",
   "metadata": {},
   "source": [
    "#### Вероятность, что из первого ящика вытащили ни одного белого мяча и три из второго:"
   ]
  },
  {
   "cell_type": "code",
   "execution_count": 18,
   "metadata": {},
   "outputs": [
    {
     "data": {
      "text/plain": [
       "0.015151515151515152"
      ]
     },
     "execution_count": 18,
     "metadata": {},
     "output_type": "execute_result"
    }
   ],
   "source": [
    "P_c = сombination(3, 2) / сombination(8, 2) * сombination(5, 3) * сombination(7, 1) / сombination(12, 4)\n",
    "P_c"
   ]
  },
  {
   "cell_type": "markdown",
   "metadata": {},
   "source": [
    "#### Вероятность того, что 3 мяча белые:"
   ]
  },
  {
   "cell_type": "code",
   "execution_count": 19,
   "metadata": {},
   "outputs": [
    {
     "data": {
      "text/plain": [
       "0.3686868686868686"
      ]
     },
     "execution_count": 19,
     "metadata": {},
     "output_type": "execute_result"
    }
   ],
   "source": [
    "P = P_a + P_b + P_c\n",
    "P"
   ]
  },
  {
   "cell_type": "markdown",
   "metadata": {},
   "source": [
    "### 3. На соревновании по биатлону один из трех спортсменов стреляет и попадает в мишень. Вероятность попадания для первого спортсмена равна 0.9, для второго — 0.8, для третьего — 0.6. Найти вероятность того, что выстрел произведен: a). первым спортсменом б). вторым спортсменом в). третьим спортсменом."
   ]
  },
  {
   "cell_type": "markdown",
   "metadata": {},
   "source": [
    "#### a) Вероятность того, что выстрелил 1-й спортсмен:\n",
    "\n",
    "$$P_1=\\frac{\\frac{1}{3}\\cdot0.9}{\\frac{1}{3}\\cdot0.9+\\frac{1}{3}\\cdot0.8+\\frac{1}{3}\\cdot0.6} = 0.3913$$"
   ]
  },
  {
   "cell_type": "markdown",
   "metadata": {},
   "source": [
    "#### б) Вероятность того, что выстрелил 2-й спортсмен:\n",
    "\n",
    "$$P_2 =\\frac{\\frac{1}{3}\\cdot0.8}{\\frac{1}{3}\\cdot0.9+\\frac{1}{3}\\cdot0.8+\\frac{1}{3}\\cdot0.6} = 0.34783$$"
   ]
  },
  {
   "cell_type": "markdown",
   "metadata": {},
   "source": [
    "#### в) Вероятность того, что выстрелил 3-й спортсмен:\n",
    "\n",
    "$$P_3=\\frac{\\frac{1}{3}\\cdot0.6}{\\frac{1}{3}\\cdot0.9+\\frac{1}{3}\\cdot0.8+\\frac{1}{3}\\cdot0.6} = 0.26087$$"
   ]
  },
  {
   "cell_type": "markdown",
   "metadata": {},
   "source": [
    "### 4. В университет на факультеты A и B поступило равное количество студентов, а на факультет C студентов поступило столько же, сколько на A и B вместе. Вероятность того, что студент факультета A сдаст первую сессию, равна 0.8. Для студента факультета B эта вероятность равна 0.7, а для студента факультета C - 0.9. Студент сдал первую сессию. Какова вероятность, что он учится: a). на факультете A б). на факультете B в). на факультете C?"
   ]
  },
  {
   "cell_type": "markdown",
   "metadata": {},
   "source": [
    "#### a) Вероятность того, что студент учится на факультете А:\n",
    "\n",
    "$$P_a=\\frac{\\frac{1}{4}\\cdot0.8}{\\frac{1}{4}\\cdot0.8+\\frac{1}{4}\\cdot0.7+\\frac{1}{2}\\cdot0.9} = 0.24242$$"
   ]
  },
  {
   "cell_type": "markdown",
   "metadata": {},
   "source": [
    "#### б) Вероятность того, что студент учится на факультете В:\n",
    "\n",
    "$$P_b=\\frac{\\frac{1}{4}\\cdot0.7}{\\frac{1}{4}\\cdot0.8+\\frac{1}{4}\\cdot0.7+\\frac{1}{2}\\cdot0.9} = 0.21212$$"
   ]
  },
  {
   "cell_type": "markdown",
   "metadata": {},
   "source": [
    "#### в) Вероятность того, что студент учится на факультете С:\n",
    "\n",
    "$$P_c=\\frac{\\frac{1}{2}\\cdot0.9}{\\frac{1}{4}\\cdot0.8+\\frac{1}{4}\\cdot0.7+\\frac{1}{2}\\cdot0.9} = 0.54545$$"
   ]
  },
  {
   "cell_type": "markdown",
   "metadata": {},
   "source": [
    "### 5. Устройство состоит из трех деталей. Для первой детали вероятность выйти из строя в первый месяц равна 0.1, для второй - 0.2, для третьей - 0.25. Какова вероятность того, что в первый месяц выйдут из строя: а). все детали б). только две детали в). хотя бы одна деталь г). от одной до двух деталей?"
   ]
  },
  {
   "cell_type": "markdown",
   "metadata": {},
   "source": [
    "#### а) Вероятность того, что в первый месяц выйдут из строя все детали: \n",
    "\n",
    "$0.1 \\cdot 0.2 \\cdot 0.25 = 0.005$"
   ]
  },
  {
   "cell_type": "markdown",
   "metadata": {},
   "source": [
    "#### б) Вероятность того, что в первый месяц выйдут из строя только две детали:\n",
    "    \n",
    "$(1-0.1) \\cdot 0.2\\cdot 0.25 + 0.1 \\cdot (1-0.2) \\cdot 0.25 + 0.1 \\cdot 0.2 \\cdot (1- 0.25) = 0.08$    "
   ]
  },
  {
   "cell_type": "markdown",
   "metadata": {},
   "source": [
    "#### в) Вероятность того, что в первый месяц выйдет из строя хотя бы одна деталь:\n",
    "\n",
    "$1-\\left((1-0.1)\\cdot(1-0.2)\\cdot(1-0.25)\\right) = 0.46$"
   ]
  },
  {
   "cell_type": "markdown",
   "metadata": {},
   "source": [
    "#### г) Вероятность того, что в первый месяц выйдут из строя от 1-й до 2-х деталей:\n",
    "\n",
    "$\\left((1-0.1)\\cdot\\left(1-0.2\\right)\\cdot0.25+\\left(1-0.1\\right)\\cdot0.2\\cdot\\left(1-0.25\\right)+0.1\\cdot\\left(1-0.2\\right)\\cdot(1-0.25)\\right)+\\left((1-0.1)\\cdot0.2\\cdot0.25+0.1\\cdot(1-0.2)\\cdot0.25+0.1\\cdot0.2\\cdot(1-0.25)\\right) = 0.455$"
   ]
  }
 ],
 "metadata": {
  "kernelspec": {
   "display_name": "Python 3",
   "language": "python",
   "name": "python3"
  },
  "language_info": {
   "codemirror_mode": {
    "name": "ipython",
    "version": 3
   },
   "file_extension": ".py",
   "mimetype": "text/x-python",
   "name": "python",
   "nbconvert_exporter": "python",
   "pygments_lexer": "ipython3",
   "version": "3.8.5"
  }
 },
 "nbformat": 4,
 "nbformat_minor": 4
}
