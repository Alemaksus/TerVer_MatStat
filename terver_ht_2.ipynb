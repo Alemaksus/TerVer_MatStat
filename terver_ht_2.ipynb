{
 "cells": [
  {
   "cell_type": "markdown",
   "metadata": {},
   "source": [
    "### 1. Вероятность того, что стрелок попадет в мишень, выстрелив один раз, равна 0.8. Стрелок выстрелил 100 раз. Найдите вероятность того, что стрелок попадет в цель ровно 85 раз."
   ]
  },
  {
   "cell_type": "markdown",
   "metadata": {},
   "source": [
    "#### Решение:\n",
    "\n",
    "$$P_n =C_n^kp^kq^{n-k}$$\n",
    "$$P_{100} = \\frac{100!}{85!(100-85)!} * 0.8^{85} * (1- 0.8)^{100-85} = 0.048$$"
   ]
  },
  {
   "cell_type": "code",
   "execution_count": 15,
   "metadata": {},
   "outputs": [
    {
     "name": "stdout",
     "output_type": "stream",
     "text": [
      "Ответ: вероятность того, что стрелок попадет в цель 85 раз: 4.81%\n"
     ]
    }
   ],
   "source": [
    "import numpy as np\n",
    "\n",
    "n = 100\n",
    "k = 85\n",
    "p = 0.8\n",
    "q = 1 - p\n",
    "lambda_ = n * p\n",
    "\n",
    "answer = round(((np.math.factorial(n) / (np.math.factorial(k) * np.math.factorial(n - k))) * p**k * q**(n-k))*100, 2)\n",
    "\n",
    "print(f'Ответ: вероятность того, что стрелок попадет в цель 85 раз: {answer}%')"
   ]
  },
  {
   "cell_type": "markdown",
   "metadata": {},
   "source": [
    "### 2. Вероятность того, что лампочка перегорит в течение первого дня эксплуатации, равна 0.0004. В жилом комплексе после ремонта в один день включили 5000 новых лампочек. Какова вероятность, что ни одна из них не перегорит в первый день? Какова вероятность, что перегорят ровно две?"
   ]
  },
  {
   "cell_type": "markdown",
   "metadata": {},
   "source": [
    "#### Определеяем вероятность того, что ни одна лампочка из 5000 штук не перегорит в первый день эксплуатации:\n",
    "\n",
    "$$P_m \\approx \\frac{\\lambda^{m}}{m!}e^{-\\lambda}$$\n",
    "$$\\lambda = 5000 \\times 0.0004 = 2$$\n",
    "$$P_m \\approx \\frac{2^{0}}{0!}e^{-2} \\approx 0.135335 $$"
   ]
  },
  {
   "cell_type": "code",
   "execution_count": 18,
   "metadata": {},
   "outputs": [
    {
     "name": "stdout",
     "output_type": "stream",
     "text": [
      "Ответ: вероятность того, что ни одна лампа из 5000 не перегорит в первый же день 13.53%\n"
     ]
    }
   ],
   "source": [
    "n = 5000\n",
    "m = 0\n",
    "p = 0.0004\n",
    "lambda_ = n * p\n",
    "\n",
    "answer = round(((lambda_**m / np.math.factorial(m)) * np.exp(-lambda_))*100, 2)\n",
    "\n",
    "print(f'Ответ: вероятность того, что ни одна лампа из 5000 не перегорит в первый же день {answer}%')"
   ]
  },
  {
   "cell_type": "markdown",
   "metadata": {},
   "source": [
    "#### Определеяем вероятность того, что в первый день перегорят 2 лампы из 5000:"
   ]
  },
  {
   "cell_type": "markdown",
   "metadata": {},
   "source": [
    "\n",
    "$$P_m \\approx \\frac{2^{2}}{2!}e^{-2} \\approx 0.270671 $$"
   ]
  },
  {
   "cell_type": "code",
   "execution_count": 20,
   "metadata": {},
   "outputs": [
    {
     "name": "stdout",
     "output_type": "stream",
     "text": [
      "Ответ: вероятность того, что 2 лампы из 5000 перегорят в первый же день 27.07%\n"
     ]
    }
   ],
   "source": [
    "n = 5000\n",
    "m = 2\n",
    "p = 0.0004\n",
    "lambda_ = n * p\n",
    "\n",
    "answer = round(((lambda_**m / np.math.factorial(m)) * np.exp(-lambda_))*100, 2)\n",
    "\n",
    "print(f'Ответ: вероятность того, что 2 лампы из 5000 перегорят в первый же день {answer}%')"
   ]
  },
  {
   "cell_type": "markdown",
   "metadata": {},
   "source": [
    "### 3. Монету подбросили 144 раза. Какова вероятность, что орел выпадет ровно 70 раз?"
   ]
  },
  {
   "cell_type": "markdown",
   "metadata": {},
   "source": [
    "#### Решение:\n",
    "\n",
    "$$P_n =C_n^kp^kq^{n-k}$$\n",
    "$$P_{70} = \\frac{144!}{70!(144-70)!} * 0.5^{70} * (1- 0.5)^{144-70} = 0.063$$"
   ]
  },
  {
   "cell_type": "code",
   "execution_count": 22,
   "metadata": {},
   "outputs": [
    {
     "name": "stdout",
     "output_type": "stream",
     "text": [
      "Ответ: вероятность того, что орел выпадет ровно 70 раз: 6.28%\n"
     ]
    }
   ],
   "source": [
    "import numpy as np\n",
    "\n",
    "n = 144\n",
    "k = 70\n",
    "p = 0.5\n",
    "q = 1 - p\n",
    "lambda_ = n * p\n",
    "\n",
    "answer = round(((np.math.factorial(n) / (np.math.factorial(k) * np.math.factorial(n - k))) * p**k * q**(n-k))*100, 2)\n",
    "\n",
    "print(f'Ответ: вероятность того, что орел выпадет ровно 70 раз: {answer}%')"
   ]
  },
  {
   "cell_type": "markdown",
   "metadata": {},
   "source": [
    "### 4. В первом ящике находится 10 мячей, из которых 7 - белые. Во втором ящике - 11 мячей, из которых 9 белых. Из каждого ящика вытаскивают случайным образом по два мяча. Какова вероятность того, что все мячи белые? Какова вероятность того, что ровно два мяча белые? Какова вероятность того, что хотя бы один мяч белый?"
   ]
  },
  {
   "cell_type": "markdown",
   "metadata": {},
   "source": [
    "#### Вероятность того, что все мячи белые:\n",
    "\n",
    "$$P = \\frac{7}{10} \\cdot \\frac{6}{9} \\cdot \\frac{9}{11} \\cdot \\frac{8}{10} = 0.30545$$"
   ]
  },
  {
   "cell_type": "markdown",
   "metadata": {},
   "source": [
    "#### Вероятность того, что ровно два мяча белые:\n",
    "\n",
    "##### - находим вероятность того, что из первой корзины вытащили два белых мяча и ни одного из второй:\n",
    "\n",
    "$$P = \\frac{7}{10} \\cdot \\frac{6}{9} \\cdot \\frac{2}{11} \\cdot \\frac{1}{10} = 0.00848$$"
   ]
  },
  {
   "cell_type": "markdown",
   "metadata": {},
   "source": [
    "##### - находим вероятность, что из первой корзины вытащили только один белый мяч и только один из второй:\n",
    "\n",
    "$$P = (\\frac{7}{10} \\cdot \\frac{3}{9} + \\frac{3}{10} \\cdot \\frac{7}{9}) \\cdot (\\frac{9}{11} \\cdot \\frac{2}{10} + \\frac{2}{11} \\cdot \\frac{9}{10}) = 0.15273$$"
   ]
  },
  {
   "cell_type": "markdown",
   "metadata": {},
   "source": [
    "##### - находим вероятность того, что из первой корзины (P_1) вытащили ни одного белого мяча и два из второй (P_2):\n",
    "\n",
    "$$P_1 = \\frac{3}{10} \\cdot \\frac{2}{9} \\cdot \\frac{9}{11} \\cdot \\frac{8}{10} = 0.04364$$$$P\n",
    "\n",
    "$$P_2 = 0.00848 + 0.15272 + 0.04364 = 0.20484$$"
   ]
  },
  {
   "cell_type": "markdown",
   "metadata": {},
   "source": [
    "#### Вероятность того, что хотя бы один мяч белый:"
   ]
  },
  {
   "cell_type": "markdown",
   "metadata": {},
   "source": [
    "##### - находим вероятность того, что не вытащили ни одного белого мяча не из первой корзины и не из второй корзины:\n",
    "\n",
    "$$P = \\frac{3}{10} \\cdot  \\frac{2}{9} \\cdot \\frac{2}{11} \\cdot  \\frac{1}{10}= 0.00121$$"
   ]
  },
  {
   "cell_type": "markdown",
   "metadata": {},
   "source": [
    "##### - находим вероятность того, что хотя бы один мяч белый:\n",
    "\n",
    "$$P = 1 - 0.00121 = 0.99879$"
   ]
  }
 ],
 "metadata": {
  "kernelspec": {
   "display_name": "Python 3",
   "language": "python",
   "name": "python3"
  },
  "language_info": {
   "codemirror_mode": {
    "name": "ipython",
    "version": 3
   },
   "file_extension": ".py",
   "mimetype": "text/x-python",
   "name": "python",
   "nbconvert_exporter": "python",
   "pygments_lexer": "ipython3",
   "version": "3.8.5"
  }
 },
 "nbformat": 4,
 "nbformat_minor": 4
}
